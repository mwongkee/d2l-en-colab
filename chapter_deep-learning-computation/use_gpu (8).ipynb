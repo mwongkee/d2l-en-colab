{
  "nbformat": 4,
  "nbformat_minor": 0,
  "metadata": {
    "accelerator": "GPU",
    "kernelspec": {
      "display_name": "Python 3",
      "name": "python3"
    },
    "language_info": {
      "name": "python"
    },
    "colab": {
      "name": "use-gpu.ipynb",
      "provenance": [],
      "toc_visible": true,
      "machine_shape": "hm"
    }
  },
  "cells": [
    {
      "cell_type": "markdown",
      "metadata": {
        "id": "rOu0O6MpfJ0r",
        "colab_type": "text"
      },
      "source": [
        "The following additional libraries are needed to run this\n",
        "notebook. Note that running on Colab is experimental, please report a Github\n",
        "issue if you have any problem."
      ]
    },
    {
      "cell_type": "code",
      "metadata": {
        "id": "ROPFqs1nfJ1J",
        "colab_type": "code",
        "colab": {
          "base_uri": "https://localhost:8080/",
          "height": 153
        },
        "outputId": "bd80f4d1-b8ea-44bf-b89d-a391ad382a69"
      },
      "source": [
        "!pip install -U --pre mxnet-cu101mkl  # updating mxnet to at least v1.6\n"
      ],
      "execution_count": 1,
      "outputs": [
        {
          "output_type": "stream",
          "text": [
            "Requirement already up-to-date: mxnet-cu101mkl in /usr/local/lib/python3.6/dist-packages (1.6.0b20191006)\n",
            "Requirement already satisfied, skipping upgrade: graphviz<0.9.0,>=0.8.1 in /usr/local/lib/python3.6/dist-packages (from mxnet-cu101mkl) (0.8.4)\n",
            "Requirement already satisfied, skipping upgrade: requests<3,>=2.20.0 in /usr/local/lib/python3.6/dist-packages (from mxnet-cu101mkl) (2.21.0)\n",
            "Requirement already satisfied, skipping upgrade: numpy<2.0.0,>1.16.0 in /usr/local/lib/python3.6/dist-packages (from mxnet-cu101mkl) (1.17.5)\n",
            "Requirement already satisfied, skipping upgrade: idna<2.9,>=2.5 in /usr/local/lib/python3.6/dist-packages (from requests<3,>=2.20.0->mxnet-cu101mkl) (2.8)\n",
            "Requirement already satisfied, skipping upgrade: chardet<3.1.0,>=3.0.2 in /usr/local/lib/python3.6/dist-packages (from requests<3,>=2.20.0->mxnet-cu101mkl) (3.0.4)\n",
            "Requirement already satisfied, skipping upgrade: certifi>=2017.4.17 in /usr/local/lib/python3.6/dist-packages (from requests<3,>=2.20.0->mxnet-cu101mkl) (2019.11.28)\n",
            "Requirement already satisfied, skipping upgrade: urllib3<1.25,>=1.21.1 in /usr/local/lib/python3.6/dist-packages (from requests<3,>=2.20.0->mxnet-cu101mkl) (1.24.3)\n"
          ],
          "name": "stdout"
        }
      ]
    },
    {
      "cell_type": "markdown",
      "metadata": {
        "id": "b2t0WtnrfJ2b",
        "colab_type": "text"
      },
      "source": [
        "# GPUs\n",
        "\n",
        ":label:`sec_use_gpu`\n",
        "\n",
        "\n",
        "In the introduction to this book we discussed the rapid growth of computation over the past two decades. In a nutshell, GPU performance has increased by a factor of 1000 every decade since 2000. This offers great opportunity but it also suggests a significant need to provide such performance.\n",
        "\n",
        "|Decade|Dataset|Memory|Floating Point Calculations per Second|\n",
        "|:--|:-|:-|:-|\n",
        "|1970|100 (Iris)|1 KB|100 KF (Intel 8080)|\n",
        "|1980|1 K (House prices in Boston)|100 KB|1 MF (Intel 80186)|\n",
        "|1990|10 K (optical character recognition)|10 MB|10 MF (Intel 80486)|\n",
        "|2000|10 M (web pages)|100 MB|1 GF (Intel Core)|\n",
        "|2010|10 G (advertising)|1 GB|1 TF (NVIDIA C2050)|\n",
        "|2020|1 T (social network)|100 GB|1 PF (NVIDIA DGX-2)|\n",
        "\n",
        "In this section we begin to discuss how to harness this compute performance for your research. First by using single GPUs and at a later point, how to use multiple GPUs and multiple servers (with multiple GPUs). You might have noticed that MXNet `ndarray` looks almost identical to NumPy. But there are a few crucial differences. One of the key features that differentiates MXNet from NumPy is its support for diverse hardware devices.\n",
        "\n",
        "In MXNet, every array has a context. In fact, whenever we displayed an `ndarray` so far, it added a cryptic `@cpu(0)` notice to the output which remained unexplained so far. As we will discover, this just indicates that the computation is being executed on the CPU. Other contexts might be various GPUs. Things can get even hairier when we deploy jobs across multiple servers. By assigning arrays to contexts intelligently, we can minimize the time spent transferring data between devices. For example, when training neural networks on a server with a GPU, we typically prefer for the model’s parameters to live on the GPU.\n",
        "\n",
        "In short, for complex neural networks and large-scale data, using only CPUs for computation may be inefficient. In this section, we will discuss how to use a single NVIDIA GPU for calculations. First, make sure you have at least one NVIDIA GPU installed. Then, [download CUDA](https://developer.nvidia.com/cuda-downloads) and follow the prompts to set the appropriate path. Once these preparations are complete, the `nvidia-smi` command can be used to view the graphics card information."
      ]
    },
    {
      "cell_type": "code",
      "metadata": {
        "attributes": {
          "classes": [],
          "id": "",
          "n": "1"
        },
        "id": "-gZVcENnfJ2p",
        "colab_type": "code",
        "colab": {
          "base_uri": "https://localhost:8080/",
          "height": 306
        },
        "outputId": "367d1110-7cdb-4427-c006-ac314451c5c1"
      },
      "source": [
        "!nvidia-smi"
      ],
      "execution_count": 2,
      "outputs": [
        {
          "output_type": "stream",
          "text": [
            "Thu Feb 27 02:57:50 2020       \n",
            "+-----------------------------------------------------------------------------+\n",
            "| NVIDIA-SMI 440.48.02    Driver Version: 418.67       CUDA Version: 10.1     |\n",
            "|-------------------------------+----------------------+----------------------+\n",
            "| GPU  Name        Persistence-M| Bus-Id        Disp.A | Volatile Uncorr. ECC |\n",
            "| Fan  Temp  Perf  Pwr:Usage/Cap|         Memory-Usage | GPU-Util  Compute M. |\n",
            "|===============================+======================+======================|\n",
            "|   0  Tesla P100-PCIE...  Off  | 00000000:00:04.0 Off |                    0 |\n",
            "| N/A   34C    P0    26W / 250W |      0MiB / 16280MiB |      0%      Default |\n",
            "+-------------------------------+----------------------+----------------------+\n",
            "                                                                               \n",
            "+-----------------------------------------------------------------------------+\n",
            "| Processes:                                                       GPU Memory |\n",
            "|  GPU       PID   Type   Process name                             Usage      |\n",
            "|=============================================================================|\n",
            "|  No running processes found                                                 |\n",
            "+-----------------------------------------------------------------------------+\n"
          ],
          "name": "stdout"
        }
      ]
    },
    {
      "cell_type": "markdown",
      "metadata": {
        "id": "c3wx7nisfJ3j",
        "colab_type": "text"
      },
      "source": [
        "Next, we need to confirm that the GPU version of MXNet is installed. If a CPU version of MXNet is already installed, we need to uninstall it first. For example, use the `pip uninstall mxnet` command, then install the corresponding MXNet version according to the CUDA version. Assuming you have CUDA 9.0 installed, you can install the MXNet version that supports CUDA 9.0 by `pip install mxnet-cu90`. To run the programs in this section, you need at least two GPUs.\n",
        "\n",
        "Note that this might be extravagant for most desktop computers but it is easily available in the cloud, e.g., by using the AWS EC2 multi-GPU instances. Almost all other sections do *not* require multiple GPUs. Instead, this is simply to illustrate how data flows between different devices.\n",
        "\n",
        "## Computing Devices\n",
        "\n",
        "MXNet can specify devices, such as CPUs and GPUs, for storage and calculation. By default, MXNet creates data in the main memory and then uses the CPU to calculate it. In MXNet, the CPU and GPU can be indicated by `cpu()` and `gpu()`. It should be noted that `cpu()` (or any integer in the parentheses) means all physical CPUs and memory. This means that MXNet's calculations will try to use all CPU cores. However, `gpu()` only represents one graphic card and the corresponding graphic memory. If there are multiple GPUs, we use `gpu(i)` to represent the $i^\\mathrm{th}$ GPU ($i$ starts from 0). Also, `gpu(0)` and `gpu()` are equivalent."
      ]
    },
    {
      "cell_type": "code",
      "metadata": {
        "id": "S2n3bSRXfJ3y",
        "colab_type": "code",
        "colab": {
          "base_uri": "https://localhost:8080/",
          "height": 34
        },
        "outputId": "4b0de879-5d1e-45e8-9eea-acaaf2627b7d"
      },
      "source": [
        "from mxnet import np, npx\n",
        "from mxnet.gluon import nn\n",
        "npx.set_np()\n",
        "\n",
        "npx.cpu(), npx.gpu(), npx.gpu(1)"
      ],
      "execution_count": 3,
      "outputs": [
        {
          "output_type": "execute_result",
          "data": {
            "text/plain": [
              "(cpu(0), gpu(0), gpu(1))"
            ]
          },
          "metadata": {
            "tags": []
          },
          "execution_count": 3
        }
      ]
    },
    {
      "cell_type": "code",
      "metadata": {
        "id": "x7nm5BIyf348",
        "colab_type": "code",
        "colab": {
          "base_uri": "https://localhost:8080/",
          "height": 340
        },
        "outputId": "32a56973-823e-437b-f4f6-7129dffb79b1"
      },
      "source": [
        "help(npx)"
      ],
      "execution_count": 4,
      "outputs": [
        {
          "output_type": "stream",
          "text": [
            "Help on package mxnet.numpy_extension in mxnet:\n",
            "\n",
            "NAME\n",
            "    mxnet.numpy_extension - Module for ops not belonging to the official numpy package for imperative programming.\n",
            "\n",
            "PACKAGE CONTENTS\n",
            "    _op\n",
            "    _register\n",
            "    image\n",
            "    random\n",
            "    utils\n",
            "\n",
            "DATA\n",
            "    __all__ = []\n",
            "\n",
            "FILE\n",
            "    /usr/local/lib/python3.6/dist-packages/mxnet/numpy_extension/__init__.py\n",
            "\n",
            "\n"
          ],
          "name": "stdout"
        }
      ]
    },
    {
      "cell_type": "code",
      "metadata": {
        "id": "b_V1a19pgG51",
        "colab_type": "code",
        "colab": {
          "base_uri": "https://localhost:8080/",
          "height": 425
        },
        "outputId": "a74fd7c1-cfdb-49a7-b673-1e11da56ba51"
      },
      "source": [
        "help(np)"
      ],
      "execution_count": 5,
      "outputs": [
        {
          "output_type": "stream",
          "text": [
            "Help on package mxnet.numpy in mxnet:\n",
            "\n",
            "NAME\n",
            "    mxnet.numpy - MXNet NumPy module.\n",
            "\n",
            "PACKAGE CONTENTS\n",
            "    _op\n",
            "    _register\n",
            "    arrayprint\n",
            "    function_base\n",
            "    io\n",
            "    linalg\n",
            "    multiarray\n",
            "    random\n",
            "    stride_tricks\n",
            "    utils\n",
            "\n",
            "DATA\n",
            "    __all__ = []\n",
            "\n",
            "FILE\n",
            "    /usr/local/lib/python3.6/dist-packages/mxnet/numpy/__init__.py\n",
            "\n",
            "\n"
          ],
          "name": "stdout"
        }
      ]
    },
    {
      "cell_type": "markdown",
      "metadata": {
        "id": "sKVt5_sbfJ4X",
        "colab_type": "text"
      },
      "source": [
        "We can query the number of available GPUs through `num_gpus()`."
      ]
    },
    {
      "cell_type": "code",
      "metadata": {
        "id": "0q-qe0aZfJ4k",
        "colab_type": "code",
        "colab": {
          "base_uri": "https://localhost:8080/",
          "height": 34
        },
        "outputId": "8ef0705e-9d04-43dd-ad74-ef88fbf18d7f"
      },
      "source": [
        "npx.num_gpus()"
      ],
      "execution_count": 6,
      "outputs": [
        {
          "output_type": "execute_result",
          "data": {
            "text/plain": [
              "1"
            ]
          },
          "metadata": {
            "tags": []
          },
          "execution_count": 6
        }
      ]
    },
    {
      "cell_type": "markdown",
      "metadata": {
        "id": "LPWen6p5fJ5e",
        "colab_type": "text"
      },
      "source": [
        "Now we define two convenient functions that allows us to run codes even if the requested GPUs do not exist."
      ]
    },
    {
      "cell_type": "code",
      "metadata": {
        "id": "tHD5RDksfJ5t",
        "colab_type": "code",
        "colab": {
          "base_uri": "https://localhost:8080/",
          "height": 34
        },
        "outputId": "67113db9-21d0-48a0-8bd9-4137408afe25"
      },
      "source": [
        "# Saved in the d2l package for later use\n",
        "def try_gpu(i=0):\n",
        "    \"\"\"Return gpu(i) if exists, otherwise return cpu().\"\"\"\n",
        "    return npx.gpu(i) if npx.num_gpus() >= i + 1 else npx.cpu()\n",
        "\n",
        "# Saved in the d2l package for later use\n",
        "def try_all_gpus():\n",
        "    \"\"\"Return all available GPUs, or [cpu(),] if no GPU exists.\"\"\"\n",
        "    ctxes = [npx.gpu(i) for i in range(npx.num_gpus())]\n",
        "    return ctxes if ctxes else [npx.cpu()]\n",
        "\n",
        "try_gpu(), try_gpu(3), try_all_gpus()"
      ],
      "execution_count": 7,
      "outputs": [
        {
          "output_type": "execute_result",
          "data": {
            "text/plain": [
              "(gpu(0), cpu(0), [gpu(0)])"
            ]
          },
          "metadata": {
            "tags": []
          },
          "execution_count": 7
        }
      ]
    },
    {
      "cell_type": "markdown",
      "metadata": {
        "id": "Xt7npmgBfJ6W",
        "colab_type": "text"
      },
      "source": [
        "## `ndarray` and GPUs\n",
        "\n",
        "By default, `ndarray` objects are created on the CPU. Therefore, we will see the `@cpu(0)` identifier each time we print an `ndarray`."
      ]
    },
    {
      "cell_type": "code",
      "metadata": {
        "attributes": {
          "classes": [],
          "id": "",
          "n": "4"
        },
        "id": "Ix4U0nl1fJ6i",
        "colab_type": "code",
        "colab": {
          "base_uri": "https://localhost:8080/",
          "height": 34
        },
        "outputId": "02caa661-6285-4ead-9e32-a81b20d7e69c"
      },
      "source": [
        "x = np.array([1, 2, 3])\n",
        "x"
      ],
      "execution_count": 8,
      "outputs": [
        {
          "output_type": "execute_result",
          "data": {
            "text/plain": [
              "array([1., 2., 3.])"
            ]
          },
          "metadata": {
            "tags": []
          },
          "execution_count": 8
        }
      ]
    },
    {
      "cell_type": "markdown",
      "metadata": {
        "id": "W3pNd_KHfJ7G",
        "colab_type": "text"
      },
      "source": [
        "We can use the `context` property of `ndarray` to view the device where the `ndarray` is located. It is important to note that whenever we want to operate on multiple terms they need to be in the same context. For instance, if we sum two variables, we need to make sure that both arguments are on the same device---otherwise MXNet would not know where to store the result or even how to decide where to perform the computation."
      ]
    },
    {
      "cell_type": "code",
      "metadata": {
        "id": "qwKTdXtPfJ7Q",
        "colab_type": "code",
        "colab": {
          "base_uri": "https://localhost:8080/",
          "height": 34
        },
        "outputId": "518ffe80-a371-40f5-e7cd-5d0940ee5c0b"
      },
      "source": [
        "x.context"
      ],
      "execution_count": 9,
      "outputs": [
        {
          "output_type": "execute_result",
          "data": {
            "text/plain": [
              "cpu(0)"
            ]
          },
          "metadata": {
            "tags": []
          },
          "execution_count": 9
        }
      ]
    },
    {
      "cell_type": "markdown",
      "metadata": {
        "id": "2XW1YU5ofJ8H",
        "colab_type": "text"
      },
      "source": [
        "### Storage on the GPU\n",
        "\n",
        "There are several ways to store an `ndarray` on the GPU. For example, we can specify a storage device with the `ctx` parameter when creating an `ndarray`. Next, we create the `ndarray` variable `a` on `gpu(0)`. Notice that when printing `a`, the device information becomes `@gpu(0)`. The `ndarray` created on a GPU only consumes the memory of this GPU. We can use the `nvidia-smi` command to view GPU memory usage. In general, we need to make sure we do not create data that exceeds the GPU memory limit."
      ]
    },
    {
      "cell_type": "code",
      "metadata": {
        "attributes": {
          "classes": [],
          "id": "",
          "n": "5"
        },
        "id": "cNRlS70rfJ8m",
        "colab_type": "code",
        "colab": {
          "base_uri": "https://localhost:8080/",
          "height": 51
        },
        "outputId": "efc0a461-f647-45ae-bf73-f684fbb08cf2"
      },
      "source": [
        "x = np.ones((2, 3), ctx=try_gpu())\n",
        "x"
      ],
      "execution_count": 10,
      "outputs": [
        {
          "output_type": "execute_result",
          "data": {
            "text/plain": [
              "array([[1., 1., 1.],\n",
              "       [1., 1., 1.]], ctx=gpu(0))"
            ]
          },
          "metadata": {
            "tags": []
          },
          "execution_count": 10
        }
      ]
    },
    {
      "cell_type": "markdown",
      "metadata": {
        "id": "CmI8UWlIfJ9F",
        "colab_type": "text"
      },
      "source": [
        "Assuming you have at least two GPUs, the following code will create a random array on `gpu(1)`."
      ]
    },
    {
      "cell_type": "code",
      "metadata": {
        "id": "ndb3YWMxfJ9P",
        "colab_type": "code",
        "colab": {
          "base_uri": "https://localhost:8080/",
          "height": 51
        },
        "outputId": "6b2fa066-3341-48be-e8c6-221db5de231d"
      },
      "source": [
        "y = np.random.uniform(size=(2, 3), ctx=try_gpu(1))\n",
        "y"
      ],
      "execution_count": 11,
      "outputs": [
        {
          "output_type": "execute_result",
          "data": {
            "text/plain": [
              "array([[0.5488135 , 0.5928446 , 0.71518934],\n",
              "       [0.84426576, 0.60276335, 0.8579456 ]])"
            ]
          },
          "metadata": {
            "tags": []
          },
          "execution_count": 11
        }
      ]
    },
    {
      "cell_type": "code",
      "metadata": {
        "id": "JUdm5wLbgbKi",
        "colab_type": "code",
        "colab": {
          "base_uri": "https://localhost:8080/",
          "height": 34
        },
        "outputId": "ae66612b-22c9-465b-8726-07a0d426c178"
      },
      "source": [
        "y.ctx"
      ],
      "execution_count": 12,
      "outputs": [
        {
          "output_type": "execute_result",
          "data": {
            "text/plain": [
              "cpu(0)"
            ]
          },
          "metadata": {
            "tags": []
          },
          "execution_count": 12
        }
      ]
    },
    {
      "cell_type": "code",
      "metadata": {
        "id": "qQ5QVKDqget6",
        "colab_type": "code",
        "colab": {
          "base_uri": "https://localhost:8080/",
          "height": 34
        },
        "outputId": "e353b4a3-1a44-42da-e6b0-ee013dc4fc6b"
      },
      "source": [
        "y = np.random.uniform(size=(2, 3), ctx=try_gpu(0))\n",
        "y.ctx"
      ],
      "execution_count": 13,
      "outputs": [
        {
          "output_type": "execute_result",
          "data": {
            "text/plain": [
              "gpu(0)"
            ]
          },
          "metadata": {
            "tags": []
          },
          "execution_count": 13
        }
      ]
    },
    {
      "cell_type": "markdown",
      "metadata": {
        "id": "fCBSTlTifJ97",
        "colab_type": "text"
      },
      "source": [
        "### Copying\n",
        "\n",
        "If we want to compute $\\mathbf{x} + \\mathbf{y}$ we need to decide where to perform this operation. For instance, as shown in :numref:`fig_copyto`, we can transfer $\\mathbf{x}$ to `gpu(1)` and perform the operation there. *Do not* simply add `x + y` since this will result in an exception. The runtime engine would not know what to do, it cannot find data on the same device and it fails.\n",
        "\n",
        "![Copyto copies arrays to the target device](http://d2l.ai/_images/copyto.svg)\n",
        "\n",
        ":label:`fig_copyto`\n",
        "\n",
        "\n",
        "`copyto` copies the data to another device such that we can add them. Since $\\mathbf{y}$ lives on the second GPU we need to move $\\mathbf{x}$ there before we can add the two."
      ]
    },
    {
      "cell_type": "code",
      "metadata": {
        "attributes": {
          "classes": [],
          "id": "",
          "n": "7"
        },
        "id": "bhqDux4LfJ-D",
        "colab_type": "code",
        "colab": {
          "base_uri": "https://localhost:8080/",
          "height": 85
        },
        "outputId": "f2349e04-9aad-407b-971b-a7189a38639e"
      },
      "source": [
        "z = x.copyto(try_gpu(0))\n",
        "print(x)\n",
        "print(z)"
      ],
      "execution_count": 14,
      "outputs": [
        {
          "output_type": "stream",
          "text": [
            "[[1. 1. 1.]\n",
            " [1. 1. 1.]] @gpu(0)\n",
            "[[1. 1. 1.]\n",
            " [1. 1. 1.]] @gpu(0)\n"
          ],
          "name": "stdout"
        }
      ]
    },
    {
      "cell_type": "markdown",
      "metadata": {
        "id": "rd7mzWA2fJ-3",
        "colab_type": "text"
      },
      "source": [
        "Now that the data is on the same GPU (both $\\mathbf{z}$ and $\\mathbf{y}$ are), we can add them up. In such cases MXNet places the result on the same device as its constituents. In our case that is `@gpu(1)`."
      ]
    },
    {
      "cell_type": "code",
      "metadata": {
        "id": "mUftrjKbfJ_G",
        "colab_type": "code",
        "colab": {
          "base_uri": "https://localhost:8080/",
          "height": 51
        },
        "outputId": "75b050bd-945e-4c1b-a0a1-e20fe71e14a7"
      },
      "source": [
        "y + z"
      ],
      "execution_count": 15,
      "outputs": [
        {
          "output_type": "execute_result",
          "data": {
            "text/plain": [
              "array([[1.7402194, 1.9209938, 1.0390205],\n",
              "       [1.9689629, 1.9251406, 1.4463501]], ctx=gpu(0))"
            ]
          },
          "metadata": {
            "tags": []
          },
          "execution_count": 15
        }
      ]
    },
    {
      "cell_type": "code",
      "metadata": {
        "id": "Vjg9eWAygtXl",
        "colab_type": "code",
        "colab": {
          "base_uri": "https://localhost:8080/",
          "height": 34
        },
        "outputId": "2b0288d8-c9a6-417e-e2c3-8be3a0814e67"
      },
      "source": [
        "z.copyto(npx.cpu())\n",
        "z.ctx"
      ],
      "execution_count": 16,
      "outputs": [
        {
          "output_type": "execute_result",
          "data": {
            "text/plain": [
              "gpu(0)"
            ]
          },
          "metadata": {
            "tags": []
          },
          "execution_count": 16
        }
      ]
    },
    {
      "cell_type": "code",
      "metadata": {
        "id": "Aywis6k0hAni",
        "colab_type": "code",
        "colab": {
          "base_uri": "https://localhost:8080/",
          "height": 34
        },
        "outputId": "8a73c69d-f60d-48c6-aeec-2d93dcd3874c"
      },
      "source": [
        "w = z.copyto(npx.cpu())\n",
        "w.ctx"
      ],
      "execution_count": 17,
      "outputs": [
        {
          "output_type": "execute_result",
          "data": {
            "text/plain": [
              "cpu(0)"
            ]
          },
          "metadata": {
            "tags": []
          },
          "execution_count": 17
        }
      ]
    },
    {
      "cell_type": "code",
      "metadata": {
        "id": "-q_bdk_YhGsu",
        "colab_type": "code",
        "colab": {
          "base_uri": "https://localhost:8080/",
          "height": 51
        },
        "outputId": "57e8321a-c82d-4d0f-f232-9994eb09c9e7"
      },
      "source": [
        "w = w.as_in_context(try_gpu(1))\n",
        "z"
      ],
      "execution_count": 18,
      "outputs": [
        {
          "output_type": "execute_result",
          "data": {
            "text/plain": [
              "array([[1., 1., 1.],\n",
              "       [1., 1., 1.]], ctx=gpu(0))"
            ]
          },
          "metadata": {
            "tags": []
          },
          "execution_count": 18
        }
      ]
    },
    {
      "cell_type": "markdown",
      "metadata": {
        "id": "SF9ltmd0fJ_v",
        "colab_type": "text"
      },
      "source": [
        "Imagine that your variable z already lives on your second GPU (gpu(1)). What happens if we call z.copyto(gpu(1))? It will make a copy and allocate new memory, even though that variable already lives on the desired device!\n",
        "There are times where depending on the environment our code is running in, two variables may already live on the same device. So we only want to make a copy if the variables currently lives on different contexts. In these cases, we can call `as_in_context()`. If the variable is already the specified context then this is a no-op. In fact, unless you specifically want to make a copy, `as_in_context()` is the method of choice."
      ]
    },
    {
      "cell_type": "code",
      "metadata": {
        "id": "_1HY0S08fKAH",
        "colab_type": "code",
        "colab": {
          "base_uri": "https://localhost:8080/",
          "height": 34
        },
        "outputId": "2f14f732-324e-4221-ee5c-c921a3b5badd"
      },
      "source": [
        "z = x.as_in_context(try_gpu(1))\n",
        "z.ctx"
      ],
      "execution_count": 19,
      "outputs": [
        {
          "output_type": "execute_result",
          "data": {
            "text/plain": [
              "cpu(0)"
            ]
          },
          "metadata": {
            "tags": []
          },
          "execution_count": 19
        }
      ]
    },
    {
      "cell_type": "markdown",
      "metadata": {
        "id": "BHTTH0kkfKBH",
        "colab_type": "text"
      },
      "source": [
        "It is important to note that, if the `context` of the source variable and the target variable are consistent, then the `as_in_context` function causes the target variable and the source variable to share the memory of the source variable."
      ]
    },
    {
      "cell_type": "code",
      "metadata": {
        "id": "-rTS8CV4hhcK",
        "colab_type": "code",
        "colab": {
          "base_uri": "https://localhost:8080/",
          "height": 34
        },
        "outputId": "fe0135b1-b07c-4b01-9c4e-ba6002cb0f02"
      },
      "source": [
        "y.ctx"
      ],
      "execution_count": 20,
      "outputs": [
        {
          "output_type": "execute_result",
          "data": {
            "text/plain": [
              "gpu(0)"
            ]
          },
          "metadata": {
            "tags": []
          },
          "execution_count": 20
        }
      ]
    },
    {
      "cell_type": "code",
      "metadata": {
        "attributes": {
          "classes": [],
          "id": "",
          "n": "8"
        },
        "id": "JMsY8OScfKBN",
        "colab_type": "code",
        "colab": {
          "base_uri": "https://localhost:8080/",
          "height": 34
        },
        "outputId": "b895713c-e2a2-4053-e381-72f9a43c6b61"
      },
      "source": [
        "y.as_in_context(try_gpu(0)) is y # why doesn't this work"
      ],
      "execution_count": 21,
      "outputs": [
        {
          "output_type": "execute_result",
          "data": {
            "text/plain": [
              "False"
            ]
          },
          "metadata": {
            "tags": []
          },
          "execution_count": 21
        }
      ]
    },
    {
      "cell_type": "code",
      "metadata": {
        "id": "wZq5-IrEhmpI",
        "colab_type": "code",
        "colab": {
          "base_uri": "https://localhost:8080/",
          "height": 34
        },
        "outputId": "2d5425cd-d43f-46ef-d414-ec99c9ae5070"
      },
      "source": [
        "x.ctx"
      ],
      "execution_count": 22,
      "outputs": [
        {
          "output_type": "execute_result",
          "data": {
            "text/plain": [
              "gpu(0)"
            ]
          },
          "metadata": {
            "tags": []
          },
          "execution_count": 22
        }
      ]
    },
    {
      "cell_type": "code",
      "metadata": {
        "id": "xNA6allfhnXm",
        "colab_type": "code",
        "colab": {
          "base_uri": "https://localhost:8080/",
          "height": 34
        },
        "outputId": "939f9535-211e-4ead-dca8-36371645e175"
      },
      "source": [
        "x.as_in_context(try_gpu(0)) is x # still doesn't work"
      ],
      "execution_count": 23,
      "outputs": [
        {
          "output_type": "execute_result",
          "data": {
            "text/plain": [
              "False"
            ]
          },
          "metadata": {
            "tags": []
          },
          "execution_count": 23
        }
      ]
    },
    {
      "cell_type": "code",
      "metadata": {
        "id": "msMstFouhzJ-",
        "colab_type": "code",
        "colab": {
          "base_uri": "https://localhost:8080/",
          "height": 34
        },
        "outputId": "88d7d83c-9edd-4526-fdb1-cc18b4e2029c"
      },
      "source": [
        "hex(id(x.as_in_context(npx.gpu(0)))), hex(id(x))"
      ],
      "execution_count": 24,
      "outputs": [
        {
          "output_type": "execute_result",
          "data": {
            "text/plain": [
              "('0x7f868e664090', '0x7f870bf62e58')"
            ]
          },
          "metadata": {
            "tags": []
          },
          "execution_count": 24
        }
      ]
    },
    {
      "cell_type": "markdown",
      "metadata": {
        "id": "Op0zAE7rfKBy",
        "colab_type": "text"
      },
      "source": [
        "The `copyto` function always creates new memory for the target variable."
      ]
    },
    {
      "cell_type": "code",
      "metadata": {
        "id": "msvKUkKNfKB8",
        "colab_type": "code",
        "colab": {
          "base_uri": "https://localhost:8080/",
          "height": 34
        },
        "outputId": "a6c73750-2e3d-4236-8905-a8b326a1adce"
      },
      "source": [
        "y.copyto(try_gpu(1)) is y"
      ],
      "execution_count": 25,
      "outputs": [
        {
          "output_type": "execute_result",
          "data": {
            "text/plain": [
              "False"
            ]
          },
          "metadata": {
            "tags": []
          },
          "execution_count": 25
        }
      ]
    },
    {
      "cell_type": "markdown",
      "metadata": {
        "id": "4m_dknISfKCh",
        "colab_type": "text"
      },
      "source": [
        "### Side Notes\n",
        "\n",
        "People use GPUs to do machine learning because they expect them to be fast. But transferring variables between contexts is slow. So we want you to be 100% certain that you want to do something slow before we let you do it. If MXNet just did the copy automatically without crashing then you might not realize that you had written some slow code.\n",
        "\n",
        "Also, transferring data between devices (CPU, GPUs, other machines) is something that is *much slower* than computation. It also makes parallelization a lot more difficult, since we have to wait for data to be sent (or rather to be received) before we can proceed with more operations. This is why copy operations should be taken with great care. As a rule of thumb, many small operations are much worse than one big operation. Moreover, several operations at a time are much better than many single operations interspersed in the code (unless you know what you are doing). This is the case since such operations can block if one device has to wait for the other before it can do something else. It is a bit like ordering your coffee in a queue rather than pre-ordering it by phone and finding out that it is ready when you are.\n",
        "\n",
        "Last, when we print `ndarray`s or convert `ndarray`s to the NumPy format, if the data is not in main memory, MXNet will copy it to the main memory first, resulting in additional transmission overhead. Even worse, it is now subject to the dreaded Global Interpreter Lock which makes everything wait for Python to complete.\n",
        "\n",
        "\n",
        "## Gluon and GPUs\n",
        "\n",
        "Similarly, Gluon's model can specify devices through the `ctx` parameter during initialization. The following code initializes the model parameters on the GPU (we will see many more examples of how to run models on GPUs in the following, simply since they will become somewhat more compute intensive)."
      ]
    },
    {
      "cell_type": "code",
      "metadata": {
        "attributes": {
          "classes": [],
          "id": "",
          "n": "12"
        },
        "id": "ReI9mCGIfKDG",
        "colab_type": "code",
        "colab": {}
      },
      "source": [
        "net = nn.Sequential()\n",
        "net.add(nn.Dense(1))\n",
        "net.initialize(ctx=try_gpu())"
      ],
      "execution_count": 0,
      "outputs": []
    },
    {
      "cell_type": "markdown",
      "metadata": {
        "id": "juG0gKY_fKDp",
        "colab_type": "text"
      },
      "source": [
        "When the input is an `ndarray` on the GPU, Gluon will calculate the result on the same GPU."
      ]
    },
    {
      "cell_type": "code",
      "metadata": {
        "attributes": {
          "classes": [],
          "id": "",
          "n": "13"
        },
        "id": "_IFemPZSfKD0",
        "colab_type": "code",
        "colab": {
          "base_uri": "https://localhost:8080/",
          "height": 51
        },
        "outputId": "287b65b0-4761-4e4c-8673-ee35700f7dc1"
      },
      "source": [
        "net(x)"
      ],
      "execution_count": 27,
      "outputs": [
        {
          "output_type": "execute_result",
          "data": {
            "text/plain": [
              "array([[0.04421056],\n",
              "       [0.04421056]], ctx=gpu(0))"
            ]
          },
          "metadata": {
            "tags": []
          },
          "execution_count": 27
        }
      ]
    },
    {
      "cell_type": "markdown",
      "metadata": {
        "id": "c2wRObrmfKEc",
        "colab_type": "text"
      },
      "source": [
        "Let's confirm that the model parameters are stored on the same GPU."
      ]
    },
    {
      "cell_type": "code",
      "metadata": {
        "attributes": {
          "classes": [],
          "id": "",
          "n": "14"
        },
        "id": "ZK7ANBprfKEl",
        "colab_type": "code",
        "colab": {
          "base_uri": "https://localhost:8080/",
          "height": 34
        },
        "outputId": "d89814f9-59fc-4e1d-ebc2-67ea208ed735"
      },
      "source": [
        "net[0].weight.data()"
      ],
      "execution_count": 28,
      "outputs": [
        {
          "output_type": "execute_result",
          "data": {
            "text/plain": [
              "array([[ 0.00628365,  0.04861524, -0.01068833]], ctx=gpu(0))"
            ]
          },
          "metadata": {
            "tags": []
          },
          "execution_count": 28
        }
      ]
    },
    {
      "cell_type": "markdown",
      "metadata": {
        "id": "QJe1W6m4fKFF",
        "colab_type": "text"
      },
      "source": [
        "In short, as long as all data and parameters are on the same device, we can learn models efficiently. In the following we will see several such examples.\n",
        "\n",
        "## Summary\n",
        "\n",
        "* MXNet can specify devices for storage and calculation, such as CPU or GPU. By default, MXNet creates data in the main memory and then uses the CPU to calculate it.\n",
        "* MXNet requires all input data for calculation to be *on the same device*, be it CPU or the same GPU.\n",
        "* You can lose significant performance by moving data without care. A typical mistake is as follows: computing the loss for every minibatch on the GPU and reporting it back to the user on the command line (or logging it in a NumPy array) will trigger a global interpreter lock which stalls all GPUs. It is much better to allocate memory for logging inside the GPU and only move larger logs.\n",
        "\n",
        "## Exercises\n",
        "\n",
        "1. Try a larger computation task, such as the multiplication of large matrices, and see the difference in speed between the CPU and GPU. What about a task with a small amount of calculations?\n",
        "1. How should we read and write model parameters on the GPU?\n",
        "1. Measure the time it takes to compute 1000 matrix-matrix multiplications of $100 \\times 100$ matrices and log the matrix norm $\\mathrm{tr} M M^\\top$ one result at a time vs. keeping a log on the GPU and transferring only the final result.\n",
        "1. Measure how much time it takes to perform two matrix-matrix multiplications on two GPUs at the same time vs. in sequence on one GPU (hint: you should see almost linear scaling).\n",
        "\n",
        "## [Discussions](https://discuss.mxnet.io/t/2330)\n",
        "\n",
        "![](https://github.com/d2l-ai/d2l-en-colab/blob/master/img/qr_use-gpu.svg?raw=1)"
      ]
    },
    {
      "cell_type": "code",
      "metadata": {
        "id": "vBaYLNpwjlmp",
        "colab_type": "code",
        "colab": {}
      },
      "source": [
        "def multiply_matrices(ctx, size, times):\n",
        "    A = np.random.uniform(size=size, ctx=ctx)\n",
        "    B = np.random.uniform(size=size, ctx=ctx)\n",
        "    for i in range(times):\n",
        "        B = np.dot(A, B)\n",
        "    return B.as_in_context(npx.cpu())"
      ],
      "execution_count": 0,
      "outputs": []
    },
    {
      "cell_type": "code",
      "metadata": {
        "id": "_ADfmAJGiEUy",
        "colab_type": "code",
        "colab": {}
      },
      "source": [
        "def multiply_matrices(A, B, ctx, times):\n",
        "    A = A.as_in_context(ctx)\n",
        "    B = B.as_in_context(ctx)\n",
        "    for i in range(times):\n",
        "        B = np.dot(A, B)\n",
        "    return B.as_in_context(npx.cpu())"
      ],
      "execution_count": 0,
      "outputs": []
    },
    {
      "cell_type": "code",
      "metadata": {
        "id": "YHD8KfcnlBm5",
        "colab_type": "code",
        "colab": {}
      },
      "source": [
        "contexts = {'cpu': npx.cpu(), 'gpu': npx.gpu(0)}"
      ],
      "execution_count": 0,
      "outputs": []
    },
    {
      "cell_type": "code",
      "metadata": {
        "id": "_VjV6Um4kDCt",
        "colab_type": "code",
        "colab": {
          "base_uri": "https://localhost:8080/",
          "height": 34
        },
        "outputId": "e0aad5d6-2ec9-4620-e340-8c4536d82f24"
      },
      "source": [
        "A = np.random.uniform(size=[10, 10])\n",
        "B = np.random.uniform(size=[10, 10])\n",
        "\n",
        "import time\n",
        "times = {}\n",
        "for ctx_name, ctx in contexts.items():\n",
        "    start = time.time()\n",
        "    res = multiply_matrices(A, B, ctx, times=1)\n",
        "    times[ctx_name] = time.time() - start\n",
        "print(times)"
      ],
      "execution_count": 32,
      "outputs": [
        {
          "output_type": "stream",
          "text": [
            "{'cpu': 0.0009286403656005859, 'gpu': 0.0011246204376220703}\n"
          ],
          "name": "stdout"
        }
      ]
    },
    {
      "cell_type": "code",
      "metadata": {
        "id": "MvyszmWylSAr",
        "colab_type": "code",
        "colab": {
          "base_uri": "https://localhost:8080/",
          "height": 34
        },
        "outputId": "ca696a06-1605-4e99-f7ec-c5bc114f119b"
      },
      "source": [
        "  A = np.random.uniform(size=[5000, 5000])\n",
        "  B = np.random.uniform(size=[5000, 5000])\n",
        "\n",
        "import time\n",
        "times = {}\n",
        "for ctx_name, ctx in contexts.items():\n",
        "    start = time.time()\n",
        "    res = multiply_matrices(A, B, ctx, times=100000)\n",
        "    times[ctx_name] = time.time() - start\n",
        "print(times)"
      ],
      "execution_count": 89,
      "outputs": [
        {
          "output_type": "stream",
          "text": [
            "{'cpu': 2.0949666500091553, 'gpu': 1.6278984546661377}\n"
          ],
          "name": "stdout"
        }
      ]
    },
    {
      "cell_type": "code",
      "metadata": {
        "id": "I-hcZcCMhx1d",
        "colab_type": "code",
        "colab": {
          "base_uri": "https://localhost:8080/",
          "height": 34
        },
        "outputId": "753fa1ee-447c-4bba-99bc-95b285276b9d"
      },
      "source": [
        "  A = np.random.uniform(size=[5000, 5000])\n",
        "  B = np.random.uniform(size=[5000, 5000])\n",
        "\n",
        "import time\n",
        "times = {}\n",
        "for ctx_name, ctx in contexts.items():\n",
        "    start = time.time()\n",
        "    for i in range(100000):\n",
        "      res = multiply_matrices(A, B, ctx, times=1)\n",
        "    times[ctx_name] = time.time() - start\n",
        "print(times)"
      ],
      "execution_count": 90,
      "outputs": [
        {
          "output_type": "stream",
          "text": [
            "{'cpu': 6.495464324951172, 'gpu': 26.09580421447754}\n"
          ],
          "name": "stdout"
        }
      ]
    },
    {
      "cell_type": "code",
      "metadata": {
        "id": "uPbW08tUkdNq",
        "colab_type": "code",
        "colab": {
          "base_uri": "https://localhost:8080/",
          "height": 34
        },
        "outputId": "e3bf446d-8371-4137-cab2-97953bbca467"
      },
      "source": [
        "A = np.random.uniform(size=[100, 100], ctx=npx.gpu(0))\n",
        "start = time.time()\n",
        "res = np.random.uniform(size=[1000, 1], ctx=npx.gpu(0))\n",
        "#print(res.ctx)\n",
        "#res = np.zeros(size=[1000, 1], ctx=npx.gpu())\n",
        "for i in range(1000):\n",
        "  res[i] = np.log(np.trace(np.dot(A, A.T)))\n",
        "#print(A.ctx)\n",
        "a = res.as_in_context(npx.cpu())\n",
        "total = time.time() - start\n",
        "print(total)"
      ],
      "execution_count": 56,
      "outputs": [
        {
          "output_type": "stream",
          "text": [
            "0.34454989433288574\n"
          ],
          "name": "stdout"
        }
      ]
    },
    {
      "cell_type": "code",
      "metadata": {
        "id": "M0Mx7t_BlilS",
        "colab_type": "code",
        "colab": {
          "base_uri": "https://localhost:8080/",
          "height": 34
        },
        "outputId": "00ccefc5-c480-468a-fd36-5c35c5ea6a7f"
      },
      "source": [
        "A = np.random.uniform(size=[100, 100], ctx=npx.gpu(0))\n",
        "start = time.time()\n",
        "res = np.random.uniform(size=[1000, 1], ctx=npx.cpu())\n",
        "#print(res.ctx)\n",
        "for i in range(1000):\n",
        "  res[i] = np.log(np.trace(np.dot(A, A.T))).as_in_context(npx.cpu())\n",
        "total = time.time() - start\n",
        "print(total)"
      ],
      "execution_count": 57,
      "outputs": [
        {
          "output_type": "stream",
          "text": [
            "0.4237484931945801\n"
          ],
          "name": "stdout"
        }
      ]
    },
    {
      "cell_type": "code",
      "metadata": {
        "id": "3TYmjPXXl0lf",
        "colab_type": "code",
        "colab": {}
      },
      "source": [
        ""
      ],
      "execution_count": 0,
      "outputs": []
    }
  ]
}